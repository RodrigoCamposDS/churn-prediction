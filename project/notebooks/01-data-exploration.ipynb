{
 "cells": [
  {
   "cell_type": "markdown",
   "metadata": {},
   "source": [
    "# _BUSINESS UNDERSTANDING_\n",
    "\n",
    "## **Previsão de Cancelamento - Churn - através do Método de Classificação**\n",
    "\n",
    "---\n",
    "\n",
    "## **Sumário Executivo**\n",
    "\n",
    "### **Objetivo**\n",
    "Este projeto tem como objetivo desenvolver um modelo de classificação para prever a probabilidade de cancelamento de assinaturas (churn) em uma plataforma de streaming. A meta principal é identificar usuários com alta chance de cancelamento, permitindo ações proativas para retenção de clientes e redução de perdas.\n",
    "\n",
    "---\n",
    "\n",
    "### **Metodologia**\n",
    "Foi utilizada a abordagem **CRISP-DM (Cross Industry Standard Process for Data Mining)**, que guiou todas as etapas do projeto. Abaixo, destacam-se os passos seguidos:\n",
    "\n",
    "1. **Entendimento do Negócio**: Identificação de variáveis-chave como idade, número de dispositivos conectados e avaliação média de conteúdos.\n",
    "\n",
    "2. **Pré-Processamento**: Tratamento de valores ausentes, criação de novas features a partir das variáveis do registro de dados, transformação de variáveis e análise exploratória de dados.\n",
    "\n",
    "3. **Modelagem**: Ajuste de hiperparâmetros com foco no recall, priorizando a identificação de usuários propensos ao churn.\n",
    "\n",
    "4. **Validação**: Análise atravéz da matriz de confusão, análise de métricas como AUC-ROC e aplicação de validação cruzada.\n",
    "\n",
    "5. **Tomada de Decisão**: Implementação de thresholds personalizados para otimização dos resultados em cenários de custo-benefício.\n",
    "\n",
    "\n",
    "---\n",
    "\n",
    "### **Resultados**\n",
    "Os resultados detalhados podem ser encontrados no relatório completo - se encontra no final do projeto -, incluindo métricas de avaliação, insights das variáveis mais importantes e recomendações para os próximos passos."
   ]
  },
  {
   "cell_type": "markdown",
   "metadata": {},
   "source": [
    "# _DATA UNDERSTANDING_"
   ]
  },
  {
   "cell_type": "markdown",
   "metadata": {},
   "source": [
    "#### Importando as bibliotecas e funções"
   ]
  },
  {
   "cell_type": "code",
   "execution_count": 1,
   "metadata": {},
   "outputs": [
    {
     "ename": "ModuleNotFoundError",
     "evalue": "No module named 'data'",
     "output_type": "error",
     "traceback": [
      "\u001b[0;31m---------------------------------------------------------------------------\u001b[0m",
      "\u001b[0;31mModuleNotFoundError\u001b[0m                       Traceback (most recent call last)",
      "Cell \u001b[0;32mIn[1], line 4\u001b[0m\n\u001b[1;32m      2\u001b[0m \u001b[38;5;28;01mimport\u001b[39;00m \u001b[38;5;21;01mseaborn\u001b[39;00m \u001b[38;5;28;01mas\u001b[39;00m \u001b[38;5;21;01msns\u001b[39;00m\n\u001b[1;32m      3\u001b[0m \u001b[38;5;28;01mfrom\u001b[39;00m \u001b[38;5;21;01msklearn\u001b[39;00m\u001b[38;5;21;01m.\u001b[39;00m\u001b[38;5;21;01mpreprocessing\u001b[39;00m \u001b[38;5;28;01mimport\u001b[39;00m MinMaxScaler\n\u001b[0;32m----> 4\u001b[0m \u001b[38;5;28;01mfrom\u001b[39;00m \u001b[38;5;21;01mdata\u001b[39;00m\u001b[38;5;21;01m.\u001b[39;00m\u001b[38;5;21;01mload_data\u001b[39;00m \u001b[38;5;28;01mimport\u001b[39;00m load_data\n\u001b[1;32m      5\u001b[0m \u001b[38;5;28;01mfrom\u001b[39;00m \u001b[38;5;21;01mdata\u001b[39;00m\u001b[38;5;21;01m.\u001b[39;00m\u001b[38;5;21;01mprocess_data\u001b[39;00m \u001b[38;5;28;01mimport\u001b[39;00m analisar_qualidade_dados, exibir_estatisticas, generate_class_table, calcular_faixa_por_variavel, comparar_variavel_com_target\n\u001b[1;32m      6\u001b[0m \u001b[38;5;28;01mfrom\u001b[39;00m \u001b[38;5;21;01mvisualizations\u001b[39;00m\u001b[38;5;21;01m.\u001b[39;00m\u001b[38;5;21;01mplot_results\u001b[39;00m \u001b[38;5;28;01mimport\u001b[39;00m plot_continuous_data, plot_discrete_data,  plot_class_distribution\n",
      "\u001b[0;31mModuleNotFoundError\u001b[0m: No module named 'data'"
     ]
    }
   ],
   "source": [
    "import matplotlib.pyplot as plt\n",
    "import seaborn as sns\n",
    "from sklearn.preprocessing import MinMaxScaler\n",
    "from data.load_data import load_data\n",
    "from data.process_data import analisar_qualidade_dados, exibir_estatisticas, generate_class_table, calcular_faixa_por_variavel, comparar_variavel_com_target\n",
    "from visualizations.plot_results import plot_continuous_data, plot_discrete_data,  plot_class_distribution"
   ]
  },
  {
   "cell_type": "markdown",
   "metadata": {},
   "source": [
    "#### Carregando base de dados"
   ]
  },
  {
   "cell_type": "code",
   "execution_count": null,
   "metadata": {},
   "outputs": [],
   "source": [
    "# # Carregar e processar os dados\n",
    "df = load_data('streaming_data.csv')"
   ]
  },
  {
   "cell_type": "markdown",
   "metadata": {},
   "source": [
    "#### Análise descritiva"
   ]
  },
  {
   "cell_type": "markdown",
   "metadata": {},
   "source": [
    "#### Análise de qualidade dos dados"
   ]
  },
  {
   "cell_type": "code",
   "execution_count": null,
   "metadata": {},
   "outputs": [],
   "source": [
    "analisar_qualidade_dados(df)"
   ]
  },
  {
   "cell_type": "markdown",
   "metadata": {},
   "source": [
    "#### Medidas estatíticas de resumo por variável"
   ]
  },
  {
   "cell_type": "markdown",
   "metadata": {},
   "source": [
    "Age"
   ]
  },
  {
   "cell_type": "code",
   "execution_count": null,
   "metadata": {},
   "outputs": [],
   "source": [
    "exibir_estatisticas(df['Age'])\n",
    "plot_continuous_data(df['Age'])"
   ]
  },
  {
   "cell_type": "markdown",
   "metadata": {},
   "source": [
    "Gender"
   ]
  },
  {
   "cell_type": "code",
   "execution_count": null,
   "metadata": {},
   "outputs": [],
   "source": [
    "generate_class_table(df, 'Gender')\n",
    "plot_class_distribution(df, 'Gender')"
   ]
  },
  {
   "cell_type": "markdown",
   "metadata": {},
   "source": [
    "Time_on_platform"
   ]
  },
  {
   "cell_type": "code",
   "execution_count": null,
   "metadata": {},
   "outputs": [],
   "source": [
    "exibir_estatisticas(df['Time_on_platform'])\n",
    "plot_continuous_data(df['Time_on_platform'])  "
   ]
  },
  {
   "cell_type": "markdown",
   "metadata": {},
   "source": [
    "Num_streaming_services"
   ]
  },
  {
   "cell_type": "code",
   "execution_count": null,
   "metadata": {},
   "outputs": [],
   "source": [
    "exibir_estatisticas (df['Num_streaming_services'])   \n",
    "plot_discrete_data(df['Num_streaming_services']) \n",
    "generate_class_table(df, 'Num_streaming_services')\n",
    "plot_class_distribution(df, 'Num_streaming_services')"
   ]
  },
  {
   "cell_type": "markdown",
   "metadata": {},
   "source": [
    "Subscription_type"
   ]
  },
  {
   "cell_type": "code",
   "execution_count": null,
   "metadata": {},
   "outputs": [],
   "source": [
    "generate_class_table(df, 'Subscription_type')\n",
    "plot_class_distribution(df, 'Subscription_type')"
   ]
  },
  {
   "cell_type": "markdown",
   "metadata": {},
   "source": [
    "Devices_connected"
   ]
  },
  {
   "cell_type": "code",
   "execution_count": null,
   "metadata": {},
   "outputs": [],
   "source": [
    "exibir_estatisticas (df['Devices_connected'])   \n",
    "plot_discrete_data(df['Devices_connected']) \n",
    "generate_class_table(df, 'Devices_connected')\n",
    "plot_class_distribution(df, 'Devices_connected')"
   ]
  },
  {
   "cell_type": "markdown",
   "metadata": {},
   "source": [
    "Avg_rating"
   ]
  },
  {
   "cell_type": "code",
   "execution_count": null,
   "metadata": {},
   "outputs": [],
   "source": [
    "df['Avg_rating']=round(df['Avg_rating'])\n",
    "exibir_estatisticas (df['Avg_rating'])   \n",
    "plot_discrete_data(df['Avg_rating']) \n",
    "generate_class_table(df, 'Avg_rating')\n",
    "plot_class_distribution(df, 'Avg_rating')"
   ]
  },
  {
   "cell_type": "markdown",
   "metadata": {},
   "source": [
    "Churned"
   ]
  },
  {
   "cell_type": "code",
   "execution_count": null,
   "metadata": {},
   "outputs": [],
   "source": [
    "generate_class_table(df, 'Churned')\n",
    "plot_class_distribution(df, 'Churned')"
   ]
  },
  {
   "cell_type": "markdown",
   "metadata": {},
   "source": [
    "#### Análise individual das _features_ em relação ao _target_"
   ]
  },
  {
   "cell_type": "markdown",
   "metadata": {},
   "source": [
    "Faixa de Age por Churned"
   ]
  },
  {
   "cell_type": "code",
   "execution_count": null,
   "metadata": {},
   "outputs": [],
   "source": [
    "# dividindo dados contínuos por faixa\n",
    "calcular_faixa_por_variavel(df,'Age', 'Churned', 10, 1, 'desc')"
   ]
  },
  {
   "cell_type": "code",
   "execution_count": null,
   "metadata": {},
   "outputs": [],
   "source": [
    "# Criar o gráfico de barras\n",
    "plt.figure(figsize=(15, 6))\n",
    "sns.countplot(x='Variable_bins', hue='Churned', data=df, palette=[\"Gold\", \"#FF7043\"])\n",
    "plt.title('Distribuição de Churned por Faixa de Tempo na Plataforma')\n",
    "plt.xticks(rotation=45, ha='right')  # Ajustar rótulos do eixo x para ficarem legíveis\n",
    "plt.xlabel('Faixa de Tempo')\n",
    "plt.ylabel('Contagem')\n",
    "plt.show()"
   ]
  },
  {
   "cell_type": "markdown",
   "metadata": {},
   "source": [
    "Faixa de Time_on_platform por Churned"
   ]
  },
  {
   "cell_type": "code",
   "execution_count": null,
   "metadata": {},
   "outputs": [],
   "source": [
    "# dividindo dados contínuos por faixa\n",
    "calcular_faixa_por_variavel(df,'Time_on_platform', 'Churned', 21, 1, 'desc')"
   ]
  },
  {
   "cell_type": "code",
   "execution_count": null,
   "metadata": {},
   "outputs": [],
   "source": [
    "# Criar o gráfico de barras\n",
    "plt.figure(figsize=(15, 6))\n",
    "sns.countplot(x='Variable_bins', hue='Churned', data=df, palette=[\"Gold\", \"#FF7043\"])\n",
    "plt.title('Distribuição de Churned por Faixa de Tempo na Plataforma')\n",
    "plt.xticks(rotation=45, ha='right')  # Ajustar rótulos do eixo x para ficarem legíveis\n",
    "plt.xlabel('Faixa de Tempo')\n",
    "plt.ylabel('Contagem')\n",
    "plt.show()"
   ]
  },
  {
   "cell_type": "markdown",
   "metadata": {},
   "source": [
    "Gender por Chuned"
   ]
  },
  {
   "cell_type": "code",
   "execution_count": null,
   "metadata": {},
   "outputs": [],
   "source": [
    "comparar_variavel_com_target(df, 'Gender', 'Churned')\n",
    "\n",
    "\n",
    "# Criar um gráfico de barras para Gender por Churned\n",
    "plt.figure(figsize=(15, 6))\n",
    "sns.countplot(x='Gender', hue='Churned', data=df, palette=[\"Gold\", \"#FF7043\"])\n",
    "plt.title('Distribuição de Feature por Churned')\n",
    "plt.show()"
   ]
  },
  {
   "cell_type": "markdown",
   "metadata": {},
   "source": [
    "Devices_connected por Churned"
   ]
  },
  {
   "cell_type": "code",
   "execution_count": null,
   "metadata": {},
   "outputs": [],
   "source": [
    "comparar_variavel_com_target(df, 'Devices_connected', 'Churned')\n",
    "\n",
    "# Criar um gráfico de barras para Gender por Churned\n",
    "plt.figure(figsize=(15, 6))\n",
    "sns.countplot(x='Devices_connected', hue='Churned', data=df, palette=[\"Gold\", \"#FF7043\"])\n",
    "plt.title('Distribuição de Feature por Churned')\n",
    "plt.show()"
   ]
  },
  {
   "cell_type": "markdown",
   "metadata": {},
   "source": [
    "Devices_connected por Churned"
   ]
  },
  {
   "cell_type": "code",
   "execution_count": null,
   "metadata": {},
   "outputs": [],
   "source": [
    "comparar_variavel_com_target(df, 'Subscription_type', 'Churned')\n",
    "# Criar um gráfico de barras para Gender por Churned\n",
    "plt.figure(figsize=(15, 6))\n",
    "sns.countplot(x='Subscription_type', hue='Churned', data=df, palette=[\"Gold\", \"#FF7043\"])\n",
    "plt.title('Distribuição de Feature por Churned')\n",
    "plt.show()"
   ]
  },
  {
   "cell_type": "markdown",
   "metadata": {},
   "source": [
    "Num_streaming_services por Churned"
   ]
  },
  {
   "cell_type": "code",
   "execution_count": null,
   "metadata": {},
   "outputs": [],
   "source": [
    "comparar_variavel_com_target(df, 'Num_streaming_services', 'Churned')\n",
    "\n",
    "var_categorico = 'Num_streaming_services'\n",
    "\n",
    "# Criar um gráfico de barras para Gender por Churned\n",
    "plt.figure(figsize=(15, 6))\n",
    "sns.countplot(x=var_categorico, hue='Churned', data=df, palette=[\"Gold\", \"#FF7043\"])\n",
    "plt.title('Distribuição de Feature por Churned')\n",
    "plt.show()"
   ]
  },
  {
   "cell_type": "markdown",
   "metadata": {},
   "source": [
    "Num_active_profiles por Churned"
   ]
  },
  {
   "cell_type": "code",
   "execution_count": null,
   "metadata": {},
   "outputs": [],
   "source": [
    "comparar_variavel_com_target(df, 'Num_active_profiles', 'Churned')\n",
    "\n",
    "var_categorico = 'Num_active_profiles'\n",
    "\n",
    "# Criar um gráfico de barras para Gender por Churned\n",
    "plt.figure(figsize=(15, 6))\n",
    "sns.countplot(x=var_categorico, hue='Churned', data=df, palette=[\"Gold\", \"#FF7043\"])\n",
    "plt.title('Distribuição de Feature por Churned')\n",
    "plt.show()"
   ]
  },
  {
   "cell_type": "markdown",
   "metadata": {},
   "source": [
    "Avg_rating por Churned"
   ]
  },
  {
   "cell_type": "code",
   "execution_count": null,
   "metadata": {},
   "outputs": [],
   "source": [
    "comparar_variavel_com_target(df, 'Avg_rating', 'Churned')\n",
    "var_categorico = 'Avg_rating'\n",
    "\n",
    "# Criar um gráfico de barras para Gender por Churned\n",
    "plt.figure(figsize=(15, 6))\n",
    "sns.countplot(x=var_categorico, hue='Churned', data=df, palette=[\"Gold\", \"#FF7043\"])\n",
    "plt.title('Distribuição de Feature por Churned')\n",
    "plt.show()"
   ]
  },
  {
   "cell_type": "markdown",
   "metadata": {},
   "source": [
    "#### Análise das _features_ em relação ao _target_"
   ]
  },
  {
   "cell_type": "markdown",
   "metadata": {},
   "source": [
    "Análise gráfica"
   ]
  },
  {
   "cell_type": "code",
   "execution_count": null,
   "metadata": {},
   "outputs": [],
   "source": [
    "df_scaler = df.copy()\n",
    "# Selecionar as colunas para escalonamento\n",
    "columns_to_scale = ['Age', 'Time_on_platform', 'Devices_connected', 'Num_active_profiles', 'Avg_rating']\n",
    "# Inicializar o MinMaxScaler\n",
    "scaler = MinMaxScaler()\n",
    "# Aplicar o escalonamento\n",
    "df_scaler[columns_to_scale] = scaler.fit_transform(df_scaler[columns_to_scale])\n",
    "\n",
    "df_scaler.plot.box(figsize=(30, 6))\n",
    "plt.xticks(rotation=60, ha='right');"
   ]
  },
  {
   "cell_type": "markdown",
   "metadata": {},
   "source": [
    "#### Análise de correlação entre variáveis numéricas"
   ]
  },
  {
   "cell_type": "code",
   "execution_count": null,
   "metadata": {},
   "outputs": [],
   "source": [
    "# Selecionar apenas colunas numéricas\n",
    "numeric_df = df.select_dtypes(include=['number'])\n",
    "\n",
    "# Calculando a matriz de correlação\n",
    "corr = numeric_df.corr()\n",
    "\n",
    "# Plotando o mapa de calor\n",
    "plt.figure(figsize=(10, 8))\n",
    "sns.heatmap(corr, annot=True, fmt=\".2f\", cmap='coolwarm', cbar=True)\n",
    "plt.title(\"Heatmap de Correlação (somente variáveis numéricas)\")\n",
    "plt.show()"
   ]
  }
 ],
 "metadata": {
  "kernelspec": {
   "display_name": "Python (Churned)",
   "language": "python",
   "name": "churned-venv"
  },
  "language_info": {
   "codemirror_mode": {
    "name": "ipython",
    "version": 3
   },
   "file_extension": ".py",
   "mimetype": "text/x-python",
   "name": "python",
   "nbconvert_exporter": "python",
   "pygments_lexer": "ipython3",
   "version": "3.13.1"
  }
 },
 "nbformat": 4,
 "nbformat_minor": 2
}
